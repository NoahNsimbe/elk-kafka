{
 "cells": [
  {
   "cell_type": "code",
   "execution_count": null,
   "metadata": {},
   "outputs": [],
   "source": [
    "from confluent_kafka import Producer\n",
    "import pandas as pd\n",
    "from sodapy import Socrata\n",
    "import time"
   ]
  },
  {
   "cell_type": "code",
   "execution_count": null,
   "metadata": {},
   "outputs": [],
   "source": [
    "data_url = \"data.cityofnewyork.us\"\n",
    "data_set = \"erm2-nwe9\"\n",
    "app_token = \"tEeu8oBfckAQMIatiKafE7oeO\"\n",
    "bootstrap_servers = \"localhost:9092\"\n",
    "topic = \"service-requests-events\"\n",
    "sleep_time = 5"
   ]
  },
  {
   "cell_type": "code",
   "execution_count": null,
   "metadata": {},
   "outputs": [],
   "source": [
    "client = Socrata(data_url, app_token)\n",
    "producer = Producer({\"bootstrap.servers\": bootstrap_servers})\n",
    "client.timeout = 60\n",
    "offset = 0\n",
    "api_limit = 5"
   ]
  },
  {
   "cell_type": "code",
   "execution_count": null,
   "metadata": {},
   "outputs": [],
   "source": [
    "def send_data_to_kafka(api_offset):\n",
    "    try:\n",
    "        results = client.get(data_set, limit=api_limit, offset=api_offset)\n",
    "        df = pd.DataFrame.from_records(results)\n",
    "\n",
    "        for _, row in df.iterrows():\n",
    "            producer.produce(topic, row.to_json())\n",
    "\n",
    "        producer.flush()\n",
    "\n",
    "        print(\"Data sent to Kafka topic successfully.\")\n",
    "    except Exception as ex:\n",
    "        print(ex)"
   ]
  },
  {
   "cell_type": "code",
   "execution_count": null,
   "metadata": {},
   "outputs": [],
   "source": [
    "while True:\n",
    "  send_data_to_kafka(offset)\n",
    "  time.sleep(5)\n",
    "  offset = offset + api_limit"
   ]
  }
 ],
 "metadata": {
  "kernelspec": {
   "display_name": "base",
   "language": "python",
   "name": "python3"
  },
  "language_info": {
   "codemirror_mode": {
    "name": "ipython",
    "version": 3
   },
   "file_extension": ".py",
   "mimetype": "text/x-python",
   "name": "python",
   "nbconvert_exporter": "python",
   "pygments_lexer": "ipython3",
   "version": "3.11.5"
  }
 },
 "nbformat": 4,
 "nbformat_minor": 2
}
