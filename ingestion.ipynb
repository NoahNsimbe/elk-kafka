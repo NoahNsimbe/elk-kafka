{
 "cells": [
  {
   "cell_type": "code",
   "execution_count": 1,
   "metadata": {},
   "outputs": [],
   "source": [
    "from confluent_kafka import Producer\n",
    "import pandas as pd\n",
    "import json\n",
    "from sodapy import Socrata\n",
    "import time"
   ]
  },
  {
   "cell_type": "code",
   "execution_count": 2,
   "metadata": {},
   "outputs": [],
   "source": [
    "data_url = \"data.cityofnewyork.us\"\n",
    "data_set = \"erm2-nwe9\"\n",
    "app_token = \"tEeu8oBfckAQMIatiKafE7oeO\"\n",
    "bootstrap_servers = \"localhost:9092\"\n",
    "topic = \"service-requests-events\"\n",
    "sleep_time = 5"
   ]
  },
  {
   "cell_type": "code",
   "execution_count": 3,
   "metadata": {},
   "outputs": [],
   "source": [
    "client = Socrata(data_url, app_token)\n",
    "# producer = Producer({\"bootstrap.servers\": bootstrap_servers})\n",
    "client.timeout = 60\n",
    "offset = 0\n",
    "api_limit = 5"
   ]
  },
  {
   "cell_type": "code",
   "execution_count": null,
   "metadata": {},
   "outputs": [],
   "source": [
    "# def send_data_to_kafka(api_offset):\n",
    "#     try:\n",
    "#         results = client.get(data_set, limit=api_limit, offset=api_offset)\n",
    "#         df = pd.DataFrame.from_records(results)\n",
    "\n",
    "#         for _, row in df.iterrows():\n",
    "#             producer.produce(topic, row.to_json())\n",
    "\n",
    "#         producer.flush()\n",
    "\n",
    "#         print(\"Data sent to Kafka topic successfully.\")\n",
    "#     except Exception as ex:\n",
    "#         print(ex)"
   ]
  },
  {
   "cell_type": "code",
   "execution_count": 4,
   "metadata": {},
   "outputs": [],
   "source": [
    "results = client.get(data_set, limit=api_limit)\n",
    "df = pd.DataFrame.from_records(results)"
   ]
  },
  {
   "cell_type": "code",
   "execution_count": 13,
   "metadata": {},
   "outputs": [
    {
     "name": "stdout",
     "output_type": "stream",
     "text": [
      "{'latitude': '40.67679280229251', 'longitude': '-73.7379342313789', 'human_address': '{\"address\": \"\", \"city\": \"\", \"state\": \"\", \"zip\": \"\"}'}\n"
     ]
    }
   ],
   "source": [
    "print(df[\"location\"][0])"
   ]
  },
  {
   "cell_type": "code",
   "execution_count": null,
   "metadata": {},
   "outputs": [],
   "source": []
  }
 ],
 "metadata": {
  "kernelspec": {
   "display_name": "base",
   "language": "python",
   "name": "python3"
  },
  "language_info": {
   "codemirror_mode": {
    "name": "ipython",
    "version": 3
   },
   "file_extension": ".py",
   "mimetype": "text/x-python",
   "name": "python",
   "nbconvert_exporter": "python",
   "pygments_lexer": "ipython3",
   "version": "3.11.5"
  }
 },
 "nbformat": 4,
 "nbformat_minor": 2
}
