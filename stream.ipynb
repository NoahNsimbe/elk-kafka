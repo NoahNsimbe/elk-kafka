{
 "cells": [
  {
   "cell_type": "code",
   "execution_count": null,
   "metadata": {},
   "outputs": [],
   "source": [
    "! pip install -U pyspark==3.5.1\n",
    "# spark-submit --packages org.apache.spark:spark-sql-kafka-0-10_2.12:3.2.0 stream.py"
   ]
  },
  {
   "cell_type": "code",
   "execution_count": null,
   "metadata": {},
   "outputs": [],
   "source": [
    "from pyspark.sql import SparkSession\n",
    "from pyspark.sql.functions import *\n",
    "from pyspark.sql.types import *"
   ]
  },
  {
   "cell_type": "code",
   "execution_count": null,
   "metadata": {},
   "outputs": [],
   "source": [
    "kafka_bootstrap_servers = \"localhost:9092\"\n",
    "source_topic = \"service-requests-events\"\n",
    "destination_topic = \"cleaned-service-requests-events\""
   ]
  },
  {
   "cell_type": "code",
   "execution_count": null,
   "metadata": {},
   "outputs": [],
   "source": [
    "spark = (\n",
    "    SparkSession.builder.appName(\"Streaming from Kafka\")\n",
    "    .config(\"spark.streaming.stopGracefullyOnShutdown\", True)\n",
    "    .config(\"spark.jars.packages\", \"org.apache.spark:spark-sql-kafka-0-10_2.12:3.5.1\")\n",
    "    .config(\"spark.sql.shuffle.partitions\", 4)\n",
    "    .master(\"local[*]\")\n",
    "    .getOrCreate()\n",
    ")"
   ]
  },
  {
   "cell_type": "code",
   "execution_count": null,
   "metadata": {},
   "outputs": [],
   "source": [
    "schema = StructType(\n",
    "    [\n",
    "        StructField(\"unique_key\", StringType(), True),\n",
    "        StructField(\"created_date\", TimestampType(), True),\n",
    "        StructField(\"agency\", StringType(), True),\n",
    "        StructField(\"agency_name\", StringType(), True),\n",
    "        StructField(\"complaint_type\", StringType(), True),\n",
    "        StructField(\"descriptor\", StringType(), True),\n",
    "        StructField(\"location_type\", StringType(), True),\n",
    "        StructField(\"incident_zip\", StringType(), True),\n",
    "        StructField(\"incident_address\", StringType(), True),\n",
    "        StructField(\"street_name\", StringType(), True),\n",
    "        StructField(\"cross_street_1\", StringType(), True),\n",
    "        StructField(\"cross_street_2\", StringType(), True),\n",
    "        StructField(\"intersection_street_1\", StringType(), True),\n",
    "        StructField(\"intersection_street_2\", StringType(), True),\n",
    "        StructField(\"address_type\", StringType(), True),\n",
    "        StructField(\"city\", StringType(), True),\n",
    "        StructField(\"landmark\", StringType(), True),\n",
    "        StructField(\"status\", StringType(), True),\n",
    "        StructField(\"community_board\", StringType(), True),\n",
    "        StructField(\"bbl\", StringType(), True),\n",
    "        StructField(\"borough\", StringType(), True),\n",
    "        StructField(\"x_coordinate_state_plane\", StringType(), True),\n",
    "        StructField(\"y_coordinate_state_plane\", StringType(), True),\n",
    "        StructField(\"open_data_channel_type\", StringType(), True),\n",
    "        StructField(\"park_facility_name\", StringType(), True),\n",
    "        StructField(\"park_borough\", StringType(), True),\n",
    "        StructField(\"latitude\", DoubleType(), True),\n",
    "        StructField(\"longitude\", DoubleType(), True),\n",
    "        StructField(\"location\", StringType(), True),\n",
    "        StructField(\":@computed_region_efsh_h5xi\", StringType(), True),\n",
    "        StructField(\":@computed_region_f5dn_yrer\", StringType(), True),\n",
    "        StructField(\":@computed_region_yeji_bk3q\", StringType(), True),\n",
    "        StructField(\":@computed_region_92fq_4b7q\", StringType(), True),\n",
    "        StructField(\":@computed_region_sbqj_enih\", StringType(), True),\n",
    "        StructField(\":@computed_region_7mpf_4k6g\", StringType(), True),\n",
    "        StructField(\"closed_date\", TimestampType(), True),\n",
    "        StructField(\"resolution_description\", StringType(), True),\n",
    "        StructField(\"resolution_action_updated_date\", TimestampType(), True),\n",
    "    ]\n",
    ")"
   ]
  },
  {
   "cell_type": "code",
   "execution_count": null,
   "metadata": {},
   "outputs": [],
   "source": [
    "df = (\n",
    "    spark.readStream.format(\"kafka\")\n",
    "    .option(\"kafka.bootstrap.servers\", kafka_bootstrap_servers)\n",
    "    .option(\"subscribe\", source_topic)\n",
    "    .load()\n",
    ")"
   ]
  },
  {
   "cell_type": "code",
   "execution_count": null,
   "metadata": {},
   "outputs": [],
   "source": [
    "df = df.selectExpr(\"CAST(value AS STRING)\").select(\n",
    "    from_json(col(\"value\"), schema).alias(\"data\")\n",
    ")"
   ]
  },
  {
   "cell_type": "code",
   "execution_count": null,
   "metadata": {},
   "outputs": [],
   "source": [
    "query = (\n",
    "    df.selectExpr(\"to_json(struct(*)) AS value\")\n",
    "    .writeStream.format(\"kafka\")\n",
    "    .option(\"kafka.bootstrap.servers\", kafka_bootstrap_servers)\n",
    "    .option(\"topic\", destination_topic)\n",
    "    .option(\"checkpointLocation\", \"checkpoint_dir\")\n",
    "    .outputMode(\"update\")\n",
    "    .start()\n",
    ")"
   ]
  },
  {
   "cell_type": "code",
   "execution_count": null,
   "metadata": {},
   "outputs": [],
   "source": [
    "query.awaitTermination()"
   ]
  }
 ],
 "metadata": {
  "kernelspec": {
   "display_name": "base",
   "language": "python",
   "name": "python3"
  },
  "language_info": {
   "codemirror_mode": {
    "name": "ipython",
    "version": 3
   },
   "file_extension": ".py",
   "mimetype": "text/x-python",
   "name": "python",
   "nbconvert_exporter": "python",
   "pygments_lexer": "ipython3",
   "version": "3.11.5"
  }
 },
 "nbformat": 4,
 "nbformat_minor": 2
}
