{
 "cells": [
  {
   "cell_type": "code",
   "execution_count": null,
   "metadata": {},
   "outputs": [],
   "source": [
    "! pip install -U -q sodapy confluent-kafka pandas "
   ]
  },
  {
   "cell_type": "markdown",
   "metadata": {},
   "source": [
    "wget https://dlcdn.apache.org/kafka/3.7.0/kafka_2.13-3.7.0.tgz\n",
    "tar -xzf kafka_2.13-3.7.0.tgz\n",
    "mv kafka_2.13-3.7.0  kafka\n",
    "cd kafka\n",
    "\n",
    "bin/zookeeper-server-start.sh config/zookeeper.properties\n",
    "bin/kafka-server-start.sh config/server.properties\n",
    "\n",
    "bin/kafka-topics.sh --create --topic service-requests-events --bootstrap-server localhost:9092\n",
    "bin/kafka-console-consumer.sh --topic service-requests-events --from-beginning --bootstrap-server localhost:9092"
   ]
  },
  {
   "cell_type": "code",
   "execution_count": 1,
   "metadata": {},
   "outputs": [],
   "source": [
    "from confluent_kafka import Producer\n",
    "import pandas as pd\n",
    "import json\n",
    "from sodapy import Socrata\n",
    "import time"
   ]
  },
  {
   "cell_type": "code",
   "execution_count": 2,
   "metadata": {},
   "outputs": [],
   "source": [
    "data_url = \"data.cityofnewyork.us\"\n",
    "data_set = \"erm2-nwe9\"\n",
    "app_token = \"tEeu8oBfckAQMIatiKafE7oeO\"\n",
    "bootstrap_servers = \"localhost:9092\"\n",
    "topic = \"service-requests-events\""
   ]
  },
  {
   "cell_type": "code",
   "execution_count": 3,
   "metadata": {},
   "outputs": [],
   "source": [
    "client = Socrata(data_url, app_token)\n",
    "producer = Producer({\"bootstrap.servers\": bootstrap_servers})\n",
    "client.timeout = 30\n",
    "data_offset = 20\n",
    "api_limit = 20"
   ]
  },
  {
   "cell_type": "code",
   "execution_count": 13,
   "metadata": {},
   "outputs": [],
   "source": [
    "def send_data_to_kafka():\n",
    "    try:\n",
    "        offset = api_limit + api_limit\n",
    "        results = client.get(data_set, limit=api_limit, offset=offset)\n",
    "        df = pd.DataFrame.from_records(results)\n",
    "\n",
    "        for _, row in df.iterrows():\n",
    "            producer.produce(topic, row.to_json())\n",
    "\n",
    "        producer.flush()\n",
    "\n",
    "        print(\"Data sent to Kafka topic successfully.\")\n",
    "    except Exception as ex:\n",
    "        print(ex)"
   ]
  },
  {
   "cell_type": "code",
   "execution_count": 15,
   "metadata": {},
   "outputs": [],
   "source": [
    "while True:\n",
    "    send_data_to_kafka()\n",
    "    time.sleep(5)"
   ]
  },
  {
   "cell_type": "code",
   "execution_count": null,
   "metadata": {},
   "outputs": [],
   "source": [
    "# schedule.every(30).seconds.do(send_data_to_kafka)"
   ]
  },
  {
   "cell_type": "code",
   "execution_count": null,
   "metadata": {},
   "outputs": [],
   "source": [
    "# while True:\n",
    "#     schedule.run_pending()\n",
    "#     time.sleep(1)"
   ]
  },
  {
   "cell_type": "code",
   "execution_count": 4,
   "metadata": {},
   "outputs": [
    {
     "data": {
      "text/plain": [
       "Index(['unique_key', 'created_date', 'agency', 'agency_name', 'complaint_type',\n",
       "       'descriptor', 'location_type', 'incident_zip', 'incident_address',\n",
       "       'street_name', 'address_type', 'city', 'facility_type', 'status',\n",
       "       'due_date', 'resolution_description', 'resolution_action_updated_date',\n",
       "       'community_board', 'bbl', 'borough', 'x_coordinate_state_plane',\n",
       "       'y_coordinate_state_plane', 'open_data_channel_type',\n",
       "       'park_facility_name', 'park_borough', 'latitude', 'longitude',\n",
       "       'location', ':@computed_region_efsh_h5xi',\n",
       "       ':@computed_region_f5dn_yrer', ':@computed_region_yeji_bk3q',\n",
       "       ':@computed_region_92fq_4b7q', ':@computed_region_sbqj_enih',\n",
       "       ':@computed_region_7mpf_4k6g', 'cross_street_1', 'cross_street_2',\n",
       "       'intersection_street_1', 'intersection_street_2', 'landmark'],\n",
       "      dtype='object')"
      ]
     },
     "execution_count": 4,
     "metadata": {},
     "output_type": "execute_result"
    }
   ],
   "source": [
    "# %%time\n",
    "results = client.get(data_set, limit=10)\n",
    "df = pd.DataFrame.from_records(results)\n",
    "df.columns\n",
    "# for index, row in df.iterrows():\n",
    "#     producer.produce(topic, json.dumps(row.to_dict()).encode(\"utf-8\"))\n",
    "\n",
    "# producer.flush()\n",
    "\n",
    "# print(\"Data sent to Kafka topic successfully.\")"
   ]
  },
  {
   "cell_type": "code",
   "execution_count": 7,
   "metadata": {},
   "outputs": [
    {
     "data": {
      "text/html": [
       "<div>\n",
       "<style scoped>\n",
       "    .dataframe tbody tr th:only-of-type {\n",
       "        vertical-align: middle;\n",
       "    }\n",
       "\n",
       "    .dataframe tbody tr th {\n",
       "        vertical-align: top;\n",
       "    }\n",
       "\n",
       "    .dataframe thead th {\n",
       "        text-align: right;\n",
       "    }\n",
       "</style>\n",
       "<table border=\"1\" class=\"dataframe\">\n",
       "  <thead>\n",
       "    <tr style=\"text-align: right;\">\n",
       "      <th></th>\n",
       "      <th>unique_key</th>\n",
       "      <th>created_date</th>\n",
       "      <th>agency</th>\n",
       "      <th>agency_name</th>\n",
       "      <th>complaint_type</th>\n",
       "      <th>descriptor</th>\n",
       "      <th>location_type</th>\n",
       "      <th>incident_zip</th>\n",
       "      <th>incident_address</th>\n",
       "      <th>street_name</th>\n",
       "      <th>...</th>\n",
       "      <th>:@computed_region_f5dn_yrer</th>\n",
       "      <th>:@computed_region_yeji_bk3q</th>\n",
       "      <th>:@computed_region_92fq_4b7q</th>\n",
       "      <th>:@computed_region_sbqj_enih</th>\n",
       "      <th>:@computed_region_7mpf_4k6g</th>\n",
       "      <th>cross_street_1</th>\n",
       "      <th>cross_street_2</th>\n",
       "      <th>intersection_street_1</th>\n",
       "      <th>intersection_street_2</th>\n",
       "      <th>landmark</th>\n",
       "    </tr>\n",
       "  </thead>\n",
       "  <tbody>\n",
       "    <tr>\n",
       "      <th>0</th>\n",
       "      <td>60860295</td>\n",
       "      <td>2024-04-15T01:45:56.000</td>\n",
       "      <td>DSNY</td>\n",
       "      <td>Department of Sanitation</td>\n",
       "      <td>Graffiti</td>\n",
       "      <td>Graffiti</td>\n",
       "      <td>Residential</td>\n",
       "      <td>11211</td>\n",
       "      <td>216 DEVOE STREET</td>\n",
       "      <td>DEVOE STREET</td>\n",
       "      <td>...</td>\n",
       "      <td>36</td>\n",
       "      <td>2</td>\n",
       "      <td>30</td>\n",
       "      <td>56</td>\n",
       "      <td>56</td>\n",
       "      <td>NaN</td>\n",
       "      <td>NaN</td>\n",
       "      <td>NaN</td>\n",
       "      <td>NaN</td>\n",
       "      <td>NaN</td>\n",
       "    </tr>\n",
       "    <tr>\n",
       "      <th>1</th>\n",
       "      <td>60862716</td>\n",
       "      <td>2024-04-15T01:35:53.000</td>\n",
       "      <td>NYPD</td>\n",
       "      <td>New York City Police Department</td>\n",
       "      <td>Noise - Residential</td>\n",
       "      <td>Banging/Pounding</td>\n",
       "      <td>Residential Building/House</td>\n",
       "      <td>11213</td>\n",
       "      <td>1389 ST JOHNS PLACE</td>\n",
       "      <td>ST JOHNS PLACE</td>\n",
       "      <td>...</td>\n",
       "      <td>16</td>\n",
       "      <td>2</td>\n",
       "      <td>49</td>\n",
       "      <td>49</td>\n",
       "      <td>49</td>\n",
       "      <td>SCHENECTADY AVENUE</td>\n",
       "      <td>UTICA AVENUE</td>\n",
       "      <td>SCHENECTADY AVENUE</td>\n",
       "      <td>UTICA AVENUE</td>\n",
       "      <td>ST JOHNS PLACE</td>\n",
       "    </tr>\n",
       "    <tr>\n",
       "      <th>2</th>\n",
       "      <td>60857082</td>\n",
       "      <td>2024-04-15T01:35:43.000</td>\n",
       "      <td>NYPD</td>\n",
       "      <td>New York City Police Department</td>\n",
       "      <td>Noise - Street/Sidewalk</td>\n",
       "      <td>Loud Music/Party</td>\n",
       "      <td>Street/Sidewalk</td>\n",
       "      <td>10040</td>\n",
       "      <td>67 FORT GEORGE AVENUE</td>\n",
       "      <td>FORT GEORGE AVENUE</td>\n",
       "      <td>...</td>\n",
       "      <td>47</td>\n",
       "      <td>4</td>\n",
       "      <td>39</td>\n",
       "      <td>22</td>\n",
       "      <td>22</td>\n",
       "      <td>AMSTERDAM AVENUE</td>\n",
       "      <td>AUDUBON AVENUE</td>\n",
       "      <td>AMSTERDAM AVENUE</td>\n",
       "      <td>AUDUBON AVENUE</td>\n",
       "      <td>FORT GEORGE AVENUE</td>\n",
       "    </tr>\n",
       "    <tr>\n",
       "      <th>3</th>\n",
       "      <td>60862725</td>\n",
       "      <td>2024-04-15T01:35:42.000</td>\n",
       "      <td>NYPD</td>\n",
       "      <td>New York City Police Department</td>\n",
       "      <td>Noise - Residential</td>\n",
       "      <td>Loud Music/Party</td>\n",
       "      <td>Residential Building/House</td>\n",
       "      <td>10468</td>\n",
       "      <td>165 WEST  197 STREET</td>\n",
       "      <td>WEST  197 STREET</td>\n",
       "      <td>...</td>\n",
       "      <td>48</td>\n",
       "      <td>5</td>\n",
       "      <td>29</td>\n",
       "      <td>33</td>\n",
       "      <td>33</td>\n",
       "      <td>WEBB AVENUE</td>\n",
       "      <td>SEDGWICK AVENUE</td>\n",
       "      <td>WEBB AVENUE</td>\n",
       "      <td>SEDGWICK AVENUE</td>\n",
       "      <td>WEST  197 STREET</td>\n",
       "    </tr>\n",
       "    <tr>\n",
       "      <th>4</th>\n",
       "      <td>60862729</td>\n",
       "      <td>2024-04-15T01:35:30.000</td>\n",
       "      <td>NYPD</td>\n",
       "      <td>New York City Police Department</td>\n",
       "      <td>Noise - Residential</td>\n",
       "      <td>Loud Music/Party</td>\n",
       "      <td>Residential Building/House</td>\n",
       "      <td>11232</td>\n",
       "      <td>834 43 STREET</td>\n",
       "      <td>43 STREET</td>\n",
       "      <td>...</td>\n",
       "      <td>2</td>\n",
       "      <td>2</td>\n",
       "      <td>7</td>\n",
       "      <td>39</td>\n",
       "      <td>39</td>\n",
       "      <td>8 AVENUE</td>\n",
       "      <td>9 AVENUE</td>\n",
       "      <td>8 AVENUE</td>\n",
       "      <td>9 AVENUE</td>\n",
       "      <td>43 STREET</td>\n",
       "    </tr>\n",
       "  </tbody>\n",
       "</table>\n",
       "<p>5 rows × 39 columns</p>\n",
       "</div>"
      ],
      "text/plain": [
       "  unique_key             created_date agency                      agency_name  \\\n",
       "0   60860295  2024-04-15T01:45:56.000   DSNY         Department of Sanitation   \n",
       "1   60862716  2024-04-15T01:35:53.000   NYPD  New York City Police Department   \n",
       "2   60857082  2024-04-15T01:35:43.000   NYPD  New York City Police Department   \n",
       "3   60862725  2024-04-15T01:35:42.000   NYPD  New York City Police Department   \n",
       "4   60862729  2024-04-15T01:35:30.000   NYPD  New York City Police Department   \n",
       "\n",
       "            complaint_type        descriptor               location_type  \\\n",
       "0                 Graffiti          Graffiti                 Residential   \n",
       "1      Noise - Residential  Banging/Pounding  Residential Building/House   \n",
       "2  Noise - Street/Sidewalk  Loud Music/Party             Street/Sidewalk   \n",
       "3      Noise - Residential  Loud Music/Party  Residential Building/House   \n",
       "4      Noise - Residential  Loud Music/Party  Residential Building/House   \n",
       "\n",
       "  incident_zip       incident_address         street_name  ...  \\\n",
       "0        11211       216 DEVOE STREET        DEVOE STREET  ...   \n",
       "1        11213    1389 ST JOHNS PLACE      ST JOHNS PLACE  ...   \n",
       "2        10040  67 FORT GEORGE AVENUE  FORT GEORGE AVENUE  ...   \n",
       "3        10468   165 WEST  197 STREET    WEST  197 STREET  ...   \n",
       "4        11232          834 43 STREET           43 STREET  ...   \n",
       "\n",
       "  :@computed_region_f5dn_yrer :@computed_region_yeji_bk3q  \\\n",
       "0                          36                           2   \n",
       "1                          16                           2   \n",
       "2                          47                           4   \n",
       "3                          48                           5   \n",
       "4                           2                           2   \n",
       "\n",
       "  :@computed_region_92fq_4b7q :@computed_region_sbqj_enih  \\\n",
       "0                          30                          56   \n",
       "1                          49                          49   \n",
       "2                          39                          22   \n",
       "3                          29                          33   \n",
       "4                           7                          39   \n",
       "\n",
       "  :@computed_region_7mpf_4k6g      cross_street_1   cross_street_2  \\\n",
       "0                          56                 NaN              NaN   \n",
       "1                          49  SCHENECTADY AVENUE     UTICA AVENUE   \n",
       "2                          22    AMSTERDAM AVENUE   AUDUBON AVENUE   \n",
       "3                          33         WEBB AVENUE  SEDGWICK AVENUE   \n",
       "4                          39            8 AVENUE         9 AVENUE   \n",
       "\n",
       "  intersection_street_1 intersection_street_2            landmark  \n",
       "0                   NaN                   NaN                 NaN  \n",
       "1    SCHENECTADY AVENUE          UTICA AVENUE      ST JOHNS PLACE  \n",
       "2      AMSTERDAM AVENUE        AUDUBON AVENUE  FORT GEORGE AVENUE  \n",
       "3           WEBB AVENUE       SEDGWICK AVENUE    WEST  197 STREET  \n",
       "4              8 AVENUE              9 AVENUE           43 STREET  \n",
       "\n",
       "[5 rows x 39 columns]"
      ]
     },
     "execution_count": 7,
     "metadata": {},
     "output_type": "execute_result"
    }
   ],
   "source": [
    "df.head()"
   ]
  },
  {
   "cell_type": "code",
   "execution_count": 12,
   "metadata": {},
   "outputs": [],
   "source": [
    "df1 = df.where(pd.notnull(df), None)\n",
    "df1.to_json(\"data.json\")"
   ]
  },
  {
   "cell_type": "code",
   "execution_count": 14,
   "metadata": {},
   "outputs": [
    {
     "name": "stdout",
     "output_type": "stream",
     "text": [
      "{'unique_key': '60860295', 'created_date': '2024-04-15T01:45:56.000', 'agency': 'DSNY', 'agency_name': 'Department of Sanitation', 'complaint_type': 'Graffiti', 'descriptor': 'Graffiti', 'location_type': 'Residential', 'incident_zip': '11211', 'incident_address': '216 DEVOE STREET', 'street_name': 'DEVOE STREET', 'address_type': 'ADDRESS', 'city': 'BROOKLYN', 'facility_type': 'N/A', 'status': 'Open', 'due_date': '2024-05-15T01:45:56.000', 'resolution_description': 'The graffiti on this property has been scheduled to be removed by the City.', 'resolution_action_updated_date': '2024-04-15T01:45:56.000', 'community_board': '01 BROOKLYN', 'bbl': '3027720010', 'borough': 'BROOKLYN', 'x_coordinate_state_plane': '1000260', 'y_coordinate_state_plane': '199399', 'open_data_channel_type': 'UNKNOWN', 'park_facility_name': 'Unspecified', 'park_borough': 'BROOKLYN', 'latitude': '40.71396645055422', 'longitude': '-73.94224860056295', 'location': {'latitude': '40.71396645055422', 'longitude': '-73.94224860056295', 'human_address': '{\"address\": \"\", \"city\": \"\", \"state\": \"\", \"zip\": \"\"}'}, ':@computed_region_efsh_h5xi': '17613', ':@computed_region_f5dn_yrer': '36', ':@computed_region_yeji_bk3q': '2', ':@computed_region_92fq_4b7q': '30', ':@computed_region_sbqj_enih': '56', ':@computed_region_7mpf_4k6g': '56', 'cross_street_1': nan, 'cross_street_2': nan, 'intersection_street_1': nan, 'intersection_street_2': nan, 'landmark': nan}\n"
     ]
    }
   ],
   "source": [
    "for _, row in df.iterrows():\n",
    "  print(row.to_json())\n",
    "  break"
   ]
  },
  {
   "cell_type": "code",
   "execution_count": null,
   "metadata": {},
   "outputs": [],
   "source": []
  }
 ],
 "metadata": {
  "kernelspec": {
   "display_name": "base",
   "language": "python",
   "name": "python3"
  },
  "language_info": {
   "codemirror_mode": {
    "name": "ipython",
    "version": 3
   },
   "file_extension": ".py",
   "mimetype": "text/x-python",
   "name": "python",
   "nbconvert_exporter": "python",
   "pygments_lexer": "ipython3",
   "version": "3.11.5"
  }
 },
 "nbformat": 4,
 "nbformat_minor": 2
}
