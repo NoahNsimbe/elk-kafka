{
 "cells": [
  {
   "cell_type": "code",
   "execution_count": null,
   "metadata": {},
   "outputs": [],
   "source": [
    "! pip install -U -q sodapy confluent-kafka pandas "
   ]
  },
  {
   "cell_type": "markdown",
   "metadata": {},
   "source": [
    "wget https://dlcdn.apache.org/kafka/3.7.0/kafka_2.13-3.7.0.tgz\n",
    "tar -xzf kafka_2.13-3.7.0.tgz\n",
    "mv kafka_2.13-3.7.0  kafka\n",
    "cd kafka\n",
    "\n",
    "bin/zookeeper-server-start.sh config/zookeeper.properties\n",
    "bin/kafka-server-start.sh config/server.properties\n",
    "\n",
    "bin/kafka-topics.sh --create --topic service-requests-events --bootstrap-server localhost:9092\n",
    "bin/kafka-console-consumer.sh --topic service-requests-events --from-beginning --bootstrap-server localhost:9092"
   ]
  },
  {
   "cell_type": "code",
   "execution_count": 1,
   "metadata": {},
   "outputs": [],
   "source": [
    "from confluent_kafka import Producer\n",
    "import pandas as pd\n",
    "import json\n",
    "from sodapy import Socrata\n",
    "import time"
   ]
  },
  {
   "cell_type": "code",
   "execution_count": 2,
   "metadata": {},
   "outputs": [],
   "source": [
    "data_url = \"data.cityofnewyork.us\"\n",
    "data_set = \"erm2-nwe9\"\n",
    "app_token = \"tEeu8oBfckAQMIatiKafE7oeO\"\n",
    "bootstrap_servers = \"localhost:9092\"\n",
    "topic = \"service-requests-events\""
   ]
  },
  {
   "cell_type": "code",
   "execution_count": 3,
   "metadata": {},
   "outputs": [],
   "source": [
    "client = Socrata(data_url, app_token)\n",
    "producer = Producer({\"bootstrap.servers\": bootstrap_servers})\n",
    "client.timeout = 30\n",
    "data_offset = 20\n",
    "api_limit = 20"
   ]
  },
  {
   "cell_type": "code",
   "execution_count": 13,
   "metadata": {},
   "outputs": [],
   "source": [
    "def send_data_to_kafka():\n",
    "    try:\n",
    "        offset = api_limit + api_limit\n",
    "        results = client.get(data_set, limit=api_limit, offset=offset)\n",
    "        df = pd.DataFrame.from_records(results)\n",
    "\n",
    "        for _, row in df.iterrows():\n",
    "            producer.produce(topic, row.to_json())\n",
    "\n",
    "        producer.flush()\n",
    "\n",
    "        print(\"Data sent to Kafka topic successfully.\")\n",
    "    except Exception as ex:\n",
    "        print(ex)"
   ]
  },
  {
   "cell_type": "code",
   "execution_count": 15,
   "metadata": {},
   "outputs": [],
   "source": [
    "while True:\n",
    "    send_data_to_kafka()\n",
    "    time.sleep(5)"
   ]
  }
 ],
 "metadata": {
  "kernelspec": {
   "display_name": "base",
   "language": "python",
   "name": "python3"
  },
  "language_info": {
   "codemirror_mode": {
    "name": "ipython",
    "version": 3
   },
   "file_extension": ".py",
   "mimetype": "text/x-python",
   "name": "python",
   "nbconvert_exporter": "python",
   "pygments_lexer": "ipython3",
   "version": "3.11.5"
  }
 },
 "nbformat": 4,
 "nbformat_minor": 2
}
